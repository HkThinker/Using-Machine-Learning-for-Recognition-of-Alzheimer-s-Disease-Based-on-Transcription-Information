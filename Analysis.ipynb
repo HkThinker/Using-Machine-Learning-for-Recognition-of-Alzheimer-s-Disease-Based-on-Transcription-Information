{
 "cells": [
  {
   "cell_type": "code",
   "execution_count": 1,
   "metadata": {},
   "outputs": [],
   "source": [
    "import regex as re\n",
    "from glob import glob\n",
    "import pandas as pd\n",
    "from sklearn.model_selection import train_test_split\n",
    "from sklearn.model_selection import GridSearchCV\n",
    "from sklearn.pipeline import Pipeline\n",
    "from sklearn.feature_extraction.text import TfidfVectorizer\n",
    "from sklearn.ensemble import RandomForestClassifier\n",
    "import warnings\n",
    "warnings.filterwarnings('ignore')"
   ]
  },
  {
   "cell_type": "code",
   "execution_count": 2,
   "metadata": {},
   "outputs": [],
   "source": [
    "prob_ad_dir = '../train/transcription/cd/*'\n",
    "controls_dir = '../train/transcription/cc/*'"
   ]
  },
  {
   "cell_type": "code",
   "execution_count": 3,
   "metadata": {},
   "outputs": [],
   "source": [
    "def extract_data(file_name):\n",
    "    par = {}\n",
    "    par['id'] = file_name.split('/')[-1].split('.cha')[0]\n",
    "    f = iter(open(file_name))\n",
    "    l = next(f)\n",
    "    speech = []\n",
    "    try:\n",
    "        curr_speech = ''\n",
    "        while (True):\n",
    "            if l.startswith('*PAR:') or l.startswith('*INV'):\n",
    "                curr_speech = l\n",
    "            elif len(curr_speech) != 0 and not(l.startswith('%') or l.startswith('*')):\n",
    "                curr_speech += l\n",
    "            elif len(curr_speech) > 0:\n",
    "                speech.append(curr_speech)\n",
    "                curr_speech = ''\n",
    "            l = next(f)\n",
    "    except StopIteration:\n",
    "        pass\n",
    "\n",
    "    clean_par_speech = []\n",
    "    clean_all_speech = []\n",
    "    is_par = False\n",
    "    for s in speech:\n",
    "        \n",
    "        def _clean(s):\n",
    "            s = re.sub('\\x15\\d*_\\d*\\x15', '', s) # remove time block \n",
    "            s = re.sub('\\[.*\\]', '', s) # remove other speech artifacts [.*]\n",
    "            s = s.strip()\n",
    "            s = re.sub('\\t|\\n|<|>', '', s) # remove tab, new lines,ampersand\n",
    "            return s\n",
    "        \n",
    "        if s.startswith('*PAR:'):\n",
    "            is_par = True\n",
    "        elif s.startswith('*INV:'):\n",
    "            is_par = False\n",
    "            s = re.sub('\\*INV:\\t', '', s) # remove prefix\n",
    "        if is_par:\n",
    "            s = re.sub('\\*PAR:\\t', '', s) # remove prefix    \n",
    "            clean_par_speech.append(_clean(s))\n",
    "        clean_all_speech.append(_clean(s))\n",
    "        \n",
    "    par['speech'] = speech\n",
    "    par['clean_speech'] = clean_all_speech\n",
    "    par['clean_par_speech'] = clean_par_speech\n",
    "    par['joined_all_speech'] = ' '.join(clean_all_speech)\n",
    "    par['joined_all_par_speech'] = ' '.join(clean_par_speech)\n",
    "    \n",
    "    return par"
   ]
  },
  {
   "cell_type": "code",
   "execution_count": 4,
   "metadata": {},
   "outputs": [],
   "source": [
    "def parse_train_data():\n",
    "    return _parse_data('../data/train')\n",
    "\n",
    "def _parse_data(data_dir):\n",
    "    prob_ad_dir = f'{data_dir}/transcription/cd/*'\n",
    "    controls_dir = f'{data_dir}/transcription/cc/*'\n",
    "    \n",
    "    prob_ad = [extract_data(fn) for fn in glob(prob_ad_dir)]\n",
    "    controls = [extract_data(fn) for fn in glob(controls_dir)]\n",
    "    controls_df = pd.DataFrame(controls)\n",
    "    prob_ad_df = pd.DataFrame(prob_ad)\n",
    "    controls_df['ad'] = 0\n",
    "    prob_ad_df['ad'] = 1\n",
    "    df = pd.concat([controls_df, prob_ad_df]).sample(frac=1).reset_index(drop=True)\n",
    "    return df"
   ]
  },
  {
   "cell_type": "code",
   "execution_count": 5,
   "metadata": {},
   "outputs": [],
   "source": [
    "train_df = parse_train_data()"
   ]
  },
  {
   "cell_type": "code",
   "execution_count": 6,
   "metadata": {},
   "outputs": [],
   "source": [
    "random_state = 115"
   ]
  },
  {
   "cell_type": "code",
   "execution_count": 7,
   "metadata": {},
   "outputs": [],
   "source": [
    "def randomforst_models(text: pd.Series, labels: list, shuffle=True):\n",
    "    ## AD Classification Pred\n",
    "    \n",
    "    # sklearn pipeline\n",
    "    param_space = {\n",
    "        'vec__max_features': [100, 500, 1000, 2000, 10000],\n",
    "        'vec__stop_words': ['english', None],\n",
    "        'vec__analyzer': ['word', 'char'],\n",
    "        'vec__max_df': [0.5, 0.75, 1.0],\n",
    "        'vec__sublinear_tf': [True, False]    \n",
    "     \n",
    "    }    \n",
    "    param_space['clf__n_estimators'] = [10]  \n",
    "    param_space['clf__max_depth'] = [5, 10, 15]  \n",
    "    param_space['clf__min_samples_split']= [2, 5] \n",
    "    param_space['clf__min_samples_leaf']= [1, 2, 4] \n",
    "    param_space ['clf__bootstrap']= [True, False]\n",
    "\n",
    "    clf_pipe = Pipeline([\n",
    "        ('vec', TfidfVectorizer()),\n",
    "        ('clf', RandomForestClassifier())\n",
    "    ])\n",
    "    train_features, test_features, train_labels, test_labels = train_test_split(text, labels, random_state=random_state, test_size=0.2, shuffle=shuffle)\n",
    "    search = GridSearchCV(clf_pipe, param_space, cv=10, n_jobs=6)\n",
    "    search.fit(train_features, train_labels)\n",
    "    clf_pipe.set_params(**search.best_params_)\n",
    "    print(search.best_params_)\n",
    "    clf_pipe.fit(train_features, train_labels)\n",
    "    return clf_pipe, test_features,test_labels,train_features,train_labels"
   ]
  },
  {
   "cell_type": "code",
   "execution_count": 10,
   "metadata": {},
   "outputs": [
    {
     "name": "stdout",
     "output_type": "stream",
     "text": [
      "{'clf__bootstrap': True, 'clf__max_depth': 10, 'clf__min_samples_leaf': 2, 'clf__min_samples_split': 5, 'clf__n_estimators': 10, 'vec__analyzer': 'word', 'vec__max_df': 1.0, 'vec__max_features': 10000, 'vec__stop_words': 'english', 'vec__sublinear_tf': True}\n"
     ]
    }
   ],
   "source": [
    "clf_ran_par,test_features,test_labels,train_features,train_labels = randomforst_models(train_df.joined_all_par_speech, train_df.ad)"
   ]
  },
  {
   "cell_type": "code", 
   "execution_count": 169,
   "metadata": {},
   "outputs": [
    {
     "data": {
     "text/plain": [
       "<Figure size 800x800 with 2 Axes>"
      ]
     },
     "metadata": {},
     "output_type": "display_data"
    },
    {
     "data": {
      "image/png": "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",
      "text/plain": [
       "<Figure size 800x800 with 2 Axes>"
      ]
     },
     "metadata": {},
     "output_type": "display_data"
    }
   ],
   "source": [
    "import matplotlib.pyplot as plt\n",
    "from sklearn.metrics import plot_confusion_matrix\n",
    "\n",
    "# # confusion matrix for AD classification\n",
    "fig, ax = plt.subplots(figsize=(8, 8))\n",
    "plot_confusion_matrix(clf_ran_par, train_features, train_labels, ax=ax)\n",
    "ax.set_title('Confusion Matrix for AD Classification based on the train dataset')\n",
    "plt.savefig('train_cm.png')\n",
    "# confusion matrix for AD classification\n",
    "fig, ax = plt.subplots(figsize=(8, 8))\n",
    "plot_confusion_matrix(clf_ran_par, test_features, test_labels, ax=ax)\n",
    "ax.set_title('Confusion Matrix for AD Classification based on the test dataset')\n",
    "plt.savefig('test_cm.png')"
   ]
  },
   ],
   "source": [
    "import numpy as np\n",
    "import matplotlib.pyplot as plt\n",
    "\n",
    "# 创建混淆矩阵\n",
    "confusion_matrix = np.array([[41, 2],\n",
    "                             [0,43]])\n",
    "\n",
    "# 定义类别标签\n",
    "labels = ['non-AD', 'AD']\n",
    "\n",
    "# 绘制混淆矩阵\n",
    "plt.imshow(confusion_matrix, cmap='Blues')\n",
    "\n",
    "# 设置标题和颜色条\n",
    "plt.title('Confusion Matrix for train dataset', fontsize=18)\n",
    "plt.colorbar()\n",
    "\n",
    "# 添加类别标签\n",
    "tick_marks = np.arange(len(labels))\n",
    "plt.xticks(tick_marks, labels, fontsize=18)\n",
    "plt.yticks(tick_marks, labels, fontsize=18)\n",
    "\n",
    "# 添加数值标签\n",
    "for i in range(len(labels)):\n",
    "    for j in range(len(labels)):\n",
    "        plt.text(j, i, confusion_matrix[i, j],\n",
    "                 ha='center', va='center', color='black', weight='bold', fontsize=20)\n",
    "\n",
    "# 显示图形\n",
    "plt.show()\n"
   ]
  }
 ],
 "metadata": {
  "kernelspec": {
   "display_name": "Python 3",
   "language": "python",
   "name": "python3"
  },
  "language_info": {
   "codemirror_mode": {
    "name": "ipython",
    "version": 3
   },
   "file_extension": ".py",
   "mimetype": "text/x-python",
   "name": "python",
   "nbconvert_exporter": "python",
   "pygments_lexer": "ipython3",
   "version": "3.9.7"
  }
 },
 "nbformat": 4,
 "nbformat_minor": 4
}
